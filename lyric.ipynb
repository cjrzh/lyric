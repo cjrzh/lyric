{
 "cells": [
  {
   "cell_type": "code",
   "execution_count": 1,
   "metadata": {
    "collapsed": true
   },
   "outputs": [],
   "source": [
    "import re\n",
    "def transform(source):\n",
    "    '''\n",
    "    transform lyrics into the form that MediaGo can read\n",
    "    '''\n",
    "    result=[]\n",
    "    for line in source:\n",
    "        if bool(re.search(r'\\[\\d\\d.\\d\\d.\\d\\d\\d\\]',line)):\n",
    "            res=line[:9]+line[10:]\n",
    "            result.append(res)\n",
    "        else :\n",
    "            result.append(line)\n",
    "    return result\n"
   ]
  },
  {
   "cell_type": "code",
   "execution_count": 2,
   "metadata": {
    "collapsed": true
   },
   "outputs": [],
   "source": [
    "import urllib.request\n",
    "def fetch(id):\n",
    "    result=[]\n",
    "    url=\"http://music.163.com/api/song/media?id=\"+str(id)\n",
    "    response=urllib.request.urlopen(url)\n",
    "    html = response.read()\n",
    "    return html.decode('utf-8')\n",
    "    #return result"
   ]
  },
  {
   "cell_type": "code",
   "execution_count": 3,
   "metadata": {
    "collapsed": false
   },
   "outputs": [],
   "source": [
    "#  test transform\n",
    "# f=open('test.lrc')\n",
    "# result=transform(f)\n",
    "# # for line in result:\n",
    "# #     print line\n",
    "# f.close()\n",
    "# f2=open('result.lrc','w')\n",
    "# f2.writelines(result)\n",
    "# f2.close()"
   ]
  },
  {
   "cell_type": "code",
   "execution_count": 3,
   "metadata": {
    "collapsed": false,
    "scrolled": true
   },
   "outputs": [
    {
     "name": "stdout",
     "output_type": "stream",
     "text": [
      "[00:23.69]塞纳河畔  左岸的咖啡\n",
      "[00:26.03]我手一杯  品尝你的美\n",
      "[00:28.97]留下唇印的嘴\n",
      "[00:32.48]\n",
      "[00:34.39]花店玫瑰  名字写错谁\n",
      "[00:36.86]告白气球  风吹到对街\n",
      "[00:39.60]微笑在天上飞\n",
      "[00:42.71]\n",
      "[00:43.90]你说你有点难追  想让我知难而退\n",
      "[00:49.33]礼物不需挑最贵  只要香榭的落叶\n",
      "[00:54.63]喔～营造浪漫的约会  不害怕搞砸一切\n",
      "[00:59.92]拥有你就拥有  全世界\n",
      "[01:03.95]\n",
      "[01:04.91]亲爱的  爱上你  从那天起\n",
      "[01:11.31]甜蜜的很轻易\n",
      "[01:15.60]亲爱的  别任性  你的眼睛\n",
      "[01:21.93]在说我愿意\n",
      "[01:25.25]\n",
      "[01:48.78]塞纳河畔  左岸的咖啡\n",
      "[01:51.47]我手一杯  品尝你的美\n",
      "[01:54.76]留下唇印的嘴\n",
      "[01:57.51]\n",
      "[01:59.62]花店玫瑰  名字写错谁\n",
      "[02:02.21]告白气球  风吹到对街\n",
      "[02:04.79]微笑在天上飞\n",
      "[02:07.91]\n",
      "[02:09.53]你说你有点难追  想让我知难而退\n",
      "[02:14.55]礼物不需挑最贵  只要香榭的落叶\n",
      "[02:19.85]喔～营造浪漫的约会  不害怕搞砸一切\n",
      "[02:25.17]拥有你就拥有  全世界\n",
      "[02:29.12]\n",
      "[02:30.18]亲爱的  爱上你  从那天起\n",
      "[02:36.60]甜蜜的很轻易\n",
      "[02:40.95]亲爱的  别任性  你的眼睛\n",
      "[02:47.23]在说我愿意\n",
      "[02:50.44]\n",
      "[02:51.63]亲爱的  爱上你  恋爱日记\n",
      "[02:57.88]飘香水的回忆\n",
      "[03:02.21]一整瓶  的梦境  全都有你\n",
      "[03:08.50]搅拌在一起\n",
      "[03:12.07]\n",
      "[03:12.93]亲爱的别任性  你的眼睛\n",
      "[03:21.30]在说我愿意\n",
      "[03:28.54]\n"
     ]
    }
   ],
   "source": [
    "# test fetch\n",
    "res=fetch(418603077)\n",
    "import json\n",
    "res_dict = json.loads(res)\n",
    "list_res=res_dict[\"lyric\"].split('\\n')\n",
    "#print(list_res)\n",
    "trans_res=transform(list_res)\n",
    "for line in trans_res:\n",
    "    print(line)"
   ]
  },
  {
   "cell_type": "code",
   "execution_count": null,
   "metadata": {
    "collapsed": true
   },
   "outputs": [],
   "source": []
  }
 ],
 "metadata": {
  "kernelspec": {
   "display_name": "Python 3",
   "language": "python",
   "name": "python3"
  },
  "language_info": {
   "codemirror_mode": {
    "name": "ipython",
    "version": 3
   },
   "file_extension": ".py",
   "mimetype": "text/x-python",
   "name": "python",
   "nbconvert_exporter": "python",
   "pygments_lexer": "ipython3",
   "version": "3.4.3"
  }
 },
 "nbformat": 4,
 "nbformat_minor": 1
}
